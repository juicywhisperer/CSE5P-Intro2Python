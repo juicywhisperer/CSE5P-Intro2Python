{
 "cells": [
  {
   "cell_type": "code",
   "execution_count": 1,
   "metadata": {},
   "outputs": [],
   "source": [
    "def getInputs():\n",
    "    ranking = str(input(\"Enter undergraduate university ranking (low-ranked, medium-ranked, high-ranked): \"))\n",
    "    GPA = float(input(\"Enter undergraduate GPA (0.0 - 4.0): \"))\n",
    "    TOEFL = int(input(\"Enter TOEFL score (0-120): \"))\n",
    "    GRE = int(input(\"Enter GRE score (260-340): \"))\n",
    "    pub = int(input(\"Enter the number of publications: \"))\n",
    "    return (ranking,GPA,TOEFL,GRE,pub)"
   ]
  },
  {
   "cell_type": "code",
   "execution_count": null,
   "metadata": {},
   "outputs": [],
   "source": [
    "def computeNormGPA(ranking,GPA):\n",
    "    if ranking == 'low-ranked':\n",
    "        rank_weight = 0.9\n",
    "    elif ranking == 'medium-ranked':\n",
    "        rank_weight = 1.0\n",
    "    elif ranking == 'high-ranked':\n",
    "        rank_weight = 1.1\n",
    "    norm_GPA = (rank weight * GPA) / 4\n",
    "    if norm_GPA > 1:\n",
    "        norm_GPA = 1.0\n",
    "    return norm_GPA"
   ]
  },
  {
   "cell_type": "code",
   "execution_count": null,
   "metadata": {},
   "outputs": [],
   "source": [
    "def computeNormTestScore(TOEFL,GRE):\n",
    "    norm_test_score = ( 0.6 * (TOEFL / 120) + 0.4 * (GRE / 340))\n",
    "    return norm_test_score"
   ]
  },
  {
   "cell_type": "code",
   "execution_count": 2,
   "metadata": {},
   "outputs": [],
   "source": [
    "def computeNormPubScore(pub):\n",
    "    if pub == 0:\n",
    "        norm_pub_score = 0.0\n",
    "    elif pub == 1:\n",
    "        norm_pub_score = 0.5\n",
    "    else:\n",
    "        norm_pub_score = 1.0\n",
    "    return norm_pub_score"
   ]
  },
  {
   "cell_type": "code",
   "execution_count": 3,
   "metadata": {},
   "outputs": [],
   "source": [
    "def computeNormTotalScore(ranking,GPA,TOEFL,GRE,pub):\n",
    "    norm_GPA = computeNormGPA(ranking,GPA)\n",
    "    norm_test_score = computeNormTestScore(TOEFL,GRE)\n",
    "    norm_pub_score = computeNormPubScore(pub)\n",
    "    norm_total_score = (0.5 * norm_GPA + 0.3 * norm_test_score + 0.2 * norm_pub_score)\n",
    "    return norm_total_score"
   ]
  },
  {
   "cell_type": "code",
   "execution_count": 5,
   "metadata": {},
   "outputs": [],
   "source": [
    "def findBestCandidate():\n",
    "    i = 1\n",
    "    while i <= 3:\n",
    "        if i == 1:\n",
    "            getInputs()\n",
    "            s1 = computeNormTotalScore(ranking,GPA,TOEFL,GRE,pub)\n",
    "            i += 1\n",
    "        elif i == 2:\n",
    "            getInputs()\n",
    "            s2 = computeNormTotalScore(ranking,GPA,TOEFL,GRE,pub)\n",
    "            i += 1\n",
    "        elif i == 3:\n",
    "            getInputs()\n",
    "            s3 = computeNormTotalScore(ranking,GPA,TOEFL,GRE,pub)\n",
    "            i += 1\n",
    "    print(\"Normalized total score of the first applicant is:\" , \"%.4f\" % s1)\n",
    "    print(\"Normalized total score of the second applicant is:\" , \"%.4f\" % s2)\n",
    "    print(\"Normalized total score of the third applicant is:\" , \"%.4f\" % s3)\n",
    "    if s1 == max(s1,s2,s3):\n",
    "        s_best = 'first'\n",
    "    elif s2 == max(s1,s2,s3):\n",
    "        s_best = 'second'\n",
    "    elif s3 == max(s1,s2,s3):\n",
    "        s_best = 'third'\n",
    "    print(\"The\",s_best,\"applicant is the best candidate.\",sep='')"
   ]
  },
  {
   "cell_type": "code",
   "execution_count": 2,
   "metadata": {},
   "outputs": [],
   "source": [
    "def getInputs():\n",
    "    ranking = str(input(\"Enter undergraduate university ranking (low-ranked, medium-ranked, high-ranked): \"))\n",
    "    GPA = float(input(\"Enter undergraduate GPA (0.0 - 4.0): \"))\n",
    "    TOEFL = int(input(\"Enter TOEFL score (0-120): \"))\n",
    "    GRE = int(input(\"Enter GRE score (260-340): \"))\n",
    "    pub = int(input(\"Enter the number of publications: \"))\n",
    "    return (ranking,GPA,TOEFL,GRE,pub)\n",
    "\n",
    "def computeNormGPA(ranking,GPA):\n",
    "    if ranking == 'low-ranked':\n",
    "        rank_weight = 0.9\n",
    "    elif ranking == 'medium-ranked':\n",
    "        rank_weight = 1.0\n",
    "    elif ranking == 'high-ranked':\n",
    "        rank_weight = 1.1\n",
    "    norm_GPA = (rank_weight * GPA) / 4\n",
    "    if norm_GPA > 1:\n",
    "        norm_GPA = 1.0\n",
    "    return norm_GPA\n",
    "\n",
    "def computeNormTestScore(TOEFL,GRE):\n",
    "    norm_test_score = ( 0.6 * (TOEFL / 120) + 0.4 * (GRE / 340))\n",
    "    return norm_test_score\n",
    "\n",
    "def computeNormPubScore(pub):\n",
    "    if pub == 0:\n",
    "        norm_pub_score = 0.0\n",
    "    elif pub == 1:\n",
    "        norm_pub_score = 0.5\n",
    "    else:\n",
    "        norm_pub_score = 1.0\n",
    "    return norm_pub_score\n",
    "\n",
    "def computeNormTotalScore(ranking,GPA,TOEFL,GRE,pub):\n",
    "    norm_GPA = computeNormGPA(ranking,GPA)\n",
    "    norm_test_score = computeNormTestScore(TOEFL,GRE)\n",
    "    norm_pub_score = computeNormPubScore(pub)\n",
    "    norm_total_score = (0.5 * norm_GPA + 0.3 * norm_test_score + 0.2 * norm_pub_score)\n",
    "    return norm_total_score\n",
    "\n",
    "def findBestCandidate():\n",
    "    #while True:\n",
    "    i = 1\n",
    "    while i <= 3:\n",
    "        if i == 1:\n",
    "            (ranking,GPA,TOEFL,GRE,pub) = getInputs()\n",
    "            s1 = computeNormTotalScore(ranking,GPA,TOEFL,GRE,pub)\n",
    "            i += 1\n",
    "        elif i == 2:\n",
    "            (ranking,GPA,TOEFL,GRE,pub) = getInputs()\n",
    "            s2 = computeNormTotalScore(ranking,GPA,TOEFL,GRE,pub)\n",
    "            i += 1\n",
    "        elif i == 3:\n",
    "            (ranking,GPA,TOEFL,GRE,pub) = getInputs()\n",
    "            s3 = computeNormTotalScore(ranking,GPA,TOEFL,GRE,pub)\n",
    "            i += 1\n",
    "    print(\"Normalized total score of the first applicant is:\" , \"%.4f\" % s1)\n",
    "    print(\"Normalized total score of the second applicant is:\" , \"%.4f\" % s2)\n",
    "    print(\"Normalized total score of the third applicant is:\" , \"%.4f\" % s3)\n",
    "    if s1 == max(s1,s2,s3):\n",
    "        s_best = 'first'\n",
    "    elif s2 == max(s1,s2,s3):\n",
    "        s_best = 'second'\n",
    "    elif s3 == max(s1,s2,s3):\n",
    "        s_best = 'third'\n",
    "    print(\"The\",s_best,\"applicant is the best candidate.\",sep=' ')"
   ]
  },
  {
   "cell_type": "code",
   "execution_count": 3,
   "metadata": {},
   "outputs": [
    {
     "name": "stdout",
     "output_type": "stream",
     "text": [
      "Enter undergraduate university ranking (low-ranked, medium-ranked, high-ranked): medium-ranked\n",
      "Enter undergraduate GPA (0.0 - 4.0): 3.8\n",
      "Enter TOEFL score (0-120): 103\n",
      "Enter GRE score (260-340): 307\n",
      "Enter the number of publications: 1\n",
      "Enter undergraduate university ranking (low-ranked, medium-ranked, high-ranked): high-ranked\n",
      "Enter undergraduate GPA (0.0 - 4.0): 3.4\n",
      "Enter TOEFL score (0-120): 95\n",
      "Enter GRE score (260-340): 301\n",
      "Enter the number of publications: 0\n",
      "Enter undergraduate university ranking (low-ranked, medium-ranked, high-ranked): low-ranked\n",
      "Enter undergraduate GPA (0.0 - 4.0): 4.0\n",
      "Enter TOEFL score (0-120): 113\n",
      "Enter GRE score (260-340): 320\n",
      "Enter the number of publications: 2\n",
      "Normalized total score of the first applicant is: 0.8379\n",
      "Normalized total score of the second applicant is: 0.7162\n",
      "Normalized total score of the third applicant is: 0.9324\n",
      "The third applicant is the best candidate.\n"
     ]
    }
   ],
   "source": [
    "findBestCandidate()"
   ]
  },
  {
   "cell_type": "code",
   "execution_count": null,
   "metadata": {},
   "outputs": [],
   "source": []
  },
  {
   "cell_type": "code",
   "execution_count": null,
   "metadata": {},
   "outputs": [],
   "source": []
  },
  {
   "cell_type": "code",
   "execution_count": null,
   "metadata": {},
   "outputs": [],
   "source": []
  },
  {
   "cell_type": "code",
   "execution_count": null,
   "metadata": {},
   "outputs": [],
   "source": []
  },
  {
   "cell_type": "code",
   "execution_count": null,
   "metadata": {},
   "outputs": [],
   "source": []
  },
  {
   "cell_type": "code",
   "execution_count": null,
   "metadata": {},
   "outputs": [],
   "source": []
  },
  {
   "cell_type": "code",
   "execution_count": null,
   "metadata": {},
   "outputs": [],
   "source": []
  },
  {
   "cell_type": "code",
   "execution_count": null,
   "metadata": {},
   "outputs": [],
   "source": []
  },
  {
   "cell_type": "code",
   "execution_count": null,
   "metadata": {},
   "outputs": [],
   "source": []
  },
  {
   "cell_type": "code",
   "execution_count": null,
   "metadata": {},
   "outputs": [],
   "source": []
  },
  {
   "cell_type": "code",
   "execution_count": null,
   "metadata": {},
   "outputs": [],
   "source": []
  },
  {
   "cell_type": "code",
   "execution_count": null,
   "metadata": {},
   "outputs": [],
   "source": []
  },
  {
   "cell_type": "code",
   "execution_count": null,
   "metadata": {},
   "outputs": [],
   "source": []
  }
 ],
 "metadata": {
  "kernelspec": {
   "display_name": "Python 3",
   "language": "python",
   "name": "python3"
  },
  "language_info": {
   "codemirror_mode": {
    "name": "ipython",
    "version": 3
   },
   "file_extension": ".py",
   "mimetype": "text/x-python",
   "name": "python",
   "nbconvert_exporter": "python",
   "pygments_lexer": "ipython3",
   "version": "3.6.8"
  }
 },
 "nbformat": 4,
 "nbformat_minor": 2
}
