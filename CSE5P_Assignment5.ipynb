{
 "cells": [
  {
   "cell_type": "code",
   "execution_count": null,
   "metadata": {},
   "outputs": [],
   "source": [
    "# they are all dumb idiots so plz write your code with extreme caution"
   ]
  },
  {
   "cell_type": "code",
   "execution_count": 58,
   "metadata": {},
   "outputs": [
    {
     "name": "stdout",
     "output_type": "stream",
     "text": [
      "False\n",
      "False\n",
      "False\n",
      "False\n",
      "False\n",
      "False\n",
      "False\n",
      "True\n"
     ]
    }
   ],
   "source": [
    "# QUESTION 1\n",
    "#  \n",
    "# NO CODE HERE\n",
    "#\n",
    "def password_check(password):           # DO NOT CHANGE THIS LINE \n",
    "    result = True                         # DO NOT CHANGE THIS LINE \n",
    "    #\n",
    "    # Your code here\n",
    "    \n",
    "    # check if it's at least 8 characters\n",
    "    if len(password) < 8:\n",
    "        result = False\n",
    "    \n",
    "    # check if it contains question mark\n",
    "    if '?' in list(password):\n",
    "        result = False\n",
    "    \n",
    "    # check if it has at least 1 numerical, 1 alphabetical & 1 special character\n",
    "    abc_cnt = 0\n",
    "    num_cnt = 0\n",
    "    spec_cnt = 0\n",
    "    for i in list(password):\n",
    "        if 48 <= ord(i) <= 57:\n",
    "            num_cnt += 1\n",
    "        elif 65 <= ord(i) <= 90 or 97 <= ord(i) <= 122:\n",
    "            abc_cnt += 1\n",
    "        else:\n",
    "            spec_cnt += 1\n",
    "    if num_cnt == 0 or abc_cnt == 0 or spec_cnt == 0:\n",
    "        result = False\n",
    "    \n",
    "    # check if it contains the same character more than two times consecutively\n",
    "    for idx in range(0,len(password)-2):\n",
    "        if password[idx] == password[idx+1] == password[idx+2]:\n",
    "            result = False\n",
    "    \n",
    "    #number of distinct characters in the password must not be less than half of the password’s length\n",
    "    set_password = set(password)\n",
    "    if len(set_password) < (len(password) / 2):\n",
    "        result = False\n",
    "    #\n",
    "    return result                         # DO NOT CHANGE THIS LINE \n",
    "# \n",
    "\n",
    "if __name__ == \"__main__\":              # DO NOT CHANGE THIS LINE \n",
    "    print(password_check('a12#8'))        # DO NOT CHANGE THIS LINE \n",
    "    print(password_check('a1234567#?'))   # DO NOT CHANGE THIS LINE \n",
    "    print(password_check('abcdefgh#'))    # DO NOT CHANGE THIS LINE \n",
    "    print(password_check('a12345678'))    # DO NOT CHANGE THIS LINE \n",
    "    print(password_check('12345678#'))    # DO NOT CHANGE THIS LINE \n",
    "    print(password_check('abbbcd1@'))     # DO NOT CHANGE THIS LINE \n",
    "    print(password_check('a1@a1@1@'))     # DO NOT CHANGE THIS LINE \n",
    "    print(password_check('a123456#7'))    # DO NOT CHANGE THIS LINE "
   ]
  },
  {
   "cell_type": "code",
   "execution_count": 49,
   "metadata": {},
   "outputs": [
    {
     "data": {
      "text/plain": [
       "False"
      ]
     },
     "execution_count": 49,
     "metadata": {},
     "output_type": "execute_result"
    }
   ],
   "source": [
    "password_check('a12#8')"
   ]
  },
  {
   "cell_type": "code",
   "execution_count": 50,
   "metadata": {},
   "outputs": [
    {
     "data": {
      "text/plain": [
       "False"
      ]
     },
     "execution_count": 50,
     "metadata": {},
     "output_type": "execute_result"
    }
   ],
   "source": [
    "password_check('a1234567#?')"
   ]
  },
  {
   "cell_type": "code",
   "execution_count": 51,
   "metadata": {},
   "outputs": [
    {
     "data": {
      "text/plain": [
       "False"
      ]
     },
     "execution_count": 51,
     "metadata": {},
     "output_type": "execute_result"
    }
   ],
   "source": [
    "password_check('abcdefgh#')"
   ]
  },
  {
   "cell_type": "code",
   "execution_count": 52,
   "metadata": {},
   "outputs": [
    {
     "data": {
      "text/plain": [
       "False"
      ]
     },
     "execution_count": 52,
     "metadata": {},
     "output_type": "execute_result"
    }
   ],
   "source": [
    "password_check('a12345678')"
   ]
  },
  {
   "cell_type": "code",
   "execution_count": 53,
   "metadata": {},
   "outputs": [
    {
     "data": {
      "text/plain": [
       "False"
      ]
     },
     "execution_count": 53,
     "metadata": {},
     "output_type": "execute_result"
    }
   ],
   "source": [
    "password_check('12345678#')"
   ]
  },
  {
   "cell_type": "code",
   "execution_count": 54,
   "metadata": {},
   "outputs": [
    {
     "data": {
      "text/plain": [
       "False"
      ]
     },
     "execution_count": 54,
     "metadata": {},
     "output_type": "execute_result"
    }
   ],
   "source": [
    "password_check('abbbcd1@')"
   ]
  },
  {
   "cell_type": "code",
   "execution_count": 55,
   "metadata": {},
   "outputs": [
    {
     "data": {
      "text/plain": [
       "False"
      ]
     },
     "execution_count": 55,
     "metadata": {},
     "output_type": "execute_result"
    }
   ],
   "source": [
    "password_check('a1@a1@1@')"
   ]
  },
  {
   "cell_type": "code",
   "execution_count": 56,
   "metadata": {},
   "outputs": [
    {
     "data": {
      "text/plain": [
       "True"
      ]
     },
     "execution_count": 56,
     "metadata": {},
     "output_type": "execute_result"
    }
   ],
   "source": [
    "password_check('a123456#7')"
   ]
  },
  {
   "cell_type": "code",
   "execution_count": 46,
   "metadata": {},
   "outputs": [],
   "source": [
    "password = 'a1@a1@'\n",
    "# print(len(password))\n",
    "# print(password[2])\n",
    "# print(type(password))\n",
    "# abc_cnt = 0\n",
    "# num_cnt = 0\n",
    "# spec_cnt = 0\n",
    "# for i in list(password):\n",
    "#     if 48 <= ord(i) <= 57:\n",
    "#         num_cnt += 1\n",
    "#     elif 65 <= ord(i) <= 90 or 97 <= ord(i) <= 122:\n",
    "#         abc_cnt += 1\n",
    "#     else:\n",
    "#         spec_cnt += 1\n",
    "# print(abc_cnt, num_cnt, spec_cnt)\n",
    "# for idx in range(0,len(password)-2):\n",
    "#         if password[idx] == password[idx+1] == password[idx+2]:\n",
    "#             print('duplicated')\n",
    "#         else:\n",
    "#             continue\n",
    "set_password = set(password)\n",
    "if len(set_password) < (len(password) / 2):\n",
    "    print(False)"
   ]
  },
  {
   "cell_type": "code",
   "execution_count": null,
   "metadata": {},
   "outputs": [],
   "source": [
    "a character can have values from 0~255 assigned to it, and you notice \n",
    "how 48~57 is all the numbers \n",
    "and 65~90 are upper case alphabet, \n",
    "and 97~122 are lower case alphabet."
   ]
  },
  {
   "cell_type": "code",
   "execution_count": null,
   "metadata": {},
   "outputs": [],
   "source": [
    "for idx in range(0,len(password)-1):\n",
    "    if password[idx] == password[idx+1] == password[idx+2]:"
   ]
  },
  {
   "cell_type": "code",
   "execution_count": 43,
   "metadata": {},
   "outputs": [
    {
     "data": {
      "text/plain": [
       "4.5"
      ]
     },
     "execution_count": 43,
     "metadata": {},
     "output_type": "execute_result"
    }
   ],
   "source": [
    "9 /2"
   ]
  },
  {
   "cell_type": "code",
   "execution_count": null,
   "metadata": {},
   "outputs": [],
   "source": []
  },
  {
   "cell_type": "code",
   "execution_count": null,
   "metadata": {},
   "outputs": [],
   "source": []
  },
  {
   "cell_type": "code",
   "execution_count": null,
   "metadata": {},
   "outputs": [],
   "source": []
  },
  {
   "cell_type": "code",
   "execution_count": null,
   "metadata": {},
   "outputs": [],
   "source": [
    "# QUESTION 2\n",
    "#  \n",
    "# NO CODE HERE\n",
    "#\n",
    "def word_counter(file_name):            # DO NOT CHANGE THIS LINE \n",
    "    result = 0                            # DO NOT CHANGE THIS LINE \n",
    "    #\n",
    "    # Your code here\n",
    "    result = len(file_name.split())\n",
    "    #\n",
    "    return result                         # DO NOT CHANGE THIS LINE \n",
    "#                          \n",
    "# NO CODE HERE\n",
    "#\n",
    "if __name__ == \"__main__\":              # DO NOT CHANGE THIS LINE \n",
    "    print(word_counter('input1.txt'))     # DO NOT CHANGE THIS LINE \n",
    "    print(word_counter('input2.txt'))     # DO NOT CHANGE THIS LINE \n",
    "    print(word_counter('input3.txt'))     # DO NOT CHANGE THIS LINE \n",
    "    print(word_counter('input4.txt'))     # DO NOT CHANGE THIS LINE \n",
    "#                          \n",
    "# NO CODE HERE\n",
    "#\n",
    "def most_frequent(file_name):           # DO NOT CHANGE THIS LINE \n",
    "    result1 = ''                          # DO NOT CHANGE THIS LINE \n",
    "    result2 = 0                           # DO NOT CHANGE THIS LINE \n",
    "    #\n",
    "    # Your code here\n",
    "    myDict = {}                            # create a dictionary\n",
    "    file_name_2 = file_name.lower()        # all words turn into lower case\n",
    "    for word in (file_name_2.split()):\n",
    "    if word not in myDict:\n",
    "        myDict[word] = 1\n",
    "    elif word in myDict:\n",
    "        myDict[word] += 1\n",
    "    result2 = max(myDict.values())         # how many times the most frequent word has appeared\n",
    "    for word, num in myDict.items():       # here we grab the most frequent word by its value\n",
    "        if num == result2:\n",
    "            result1 = word\n",
    "    #\n",
    "    return result1, result2               # DO NOT CHANGE THIS LINE \n",
    "#                          \n",
    "# NO CODE HERE\n",
    "#\n",
    "if __name__ == \"__main__\":              # DO NOT CHANGE THIS LINE \n",
    "    print(most_frequent('input1.txt'))    # DO NOT CHANGE THIS LINE \n",
    "    print(most_frequent('input2.txt'))    # DO NOT CHANGE THIS LINE \n",
    "    print(most_frequent('input3.txt'))    # DO NOT CHANGE THIS LINE \n",
    "    print(most_frequent('input4.txt'))    # DO NOT CHANGE THIS LINE \n",
    "#                          \n",
    "# NO CODE HERE\n",
    "#"
   ]
  },
  {
   "cell_type": "code",
   "execution_count": null,
   "metadata": {},
   "outputs": [],
   "source": [
    "def word_counter(file_name):            # DO NOT CHANGE THIS LINE \n",
    "    result = 0                            # DO NOT CHANGE THIS LINE \n",
    "    #\n",
    "    # Your code here\n",
    "    result = len(file_name.split())\n",
    "    #\n",
    "    return result                         # DO NOT CHANGE THIS LINE \n",
    "#                          \n",
    "# NO CODE HERE\n",
    "#\n",
    "if __name__ == \"__main__\":              # DO NOT CHANGE THIS LINE \n",
    "    print(word_counter('input1.txt'))     # DO NOT CHANGE THIS LINE \n",
    "    print(word_counter('input2.txt'))     # DO NOT CHANGE THIS LINE \n",
    "    print(word_counter('input3.txt'))     # DO NOT CHANGE THIS LINE \n",
    "    print(word_counter('input4.txt'))     # DO NOT CHANGE THIS LINE "
   ]
  },
  {
   "cell_type": "code",
   "execution_count": 65,
   "metadata": {},
   "outputs": [
    {
     "name": "stdout",
     "output_type": "stream",
     "text": [
      "['The', 'first', 'second', 'was', 'alright,', 'but', 'the', 'second', 'second', 'was', 'tough.']\n",
      "11\n"
     ]
    }
   ],
   "source": [
    "file_name = 'The first   second was  alright,   but the second    second was tough.'\n",
    "print(file_name.split())\n",
    "result = len(file_name.split())\n",
    "print(result)"
   ]
  },
  {
   "cell_type": "code",
   "execution_count": 67,
   "metadata": {},
   "outputs": [
    {
     "name": "stdout",
     "output_type": "stream",
     "text": [
      "['The', 'first', 'second', 'was', 'alright', ',', 'but', 'the', 'second', 'second', 'was', 'tough.']\n",
      "12\n"
     ]
    }
   ],
   "source": [
    "file_name = 'The first second was alright ,   but the second second was tough.'\n",
    "print(file_name.split())\n",
    "result = len(file_name.split())\n",
    "print(result)"
   ]
  },
  {
   "cell_type": "code",
   "execution_count": 68,
   "metadata": {},
   "outputs": [
    {
     "name": "stdout",
     "output_type": "stream",
     "text": [
      "['In', 'May,', 'May', 'may', 'move', 'to', 'San', 'Mateo.']\n",
      "8\n"
     ]
    }
   ],
   "source": [
    "file_name = 'In May, May may move to San Mateo.'\n",
    "print(file_name.split())\n",
    "result = len(file_name.split())\n",
    "print(result)"
   ]
  },
  {
   "cell_type": "code",
   "execution_count": 69,
   "metadata": {},
   "outputs": [
    {
     "name": "stdout",
     "output_type": "stream",
     "text": [
      "['Will', 'Smith', 'will', 'smith', 'will', 'Smith', 'smith', 'Will?']\n",
      "8\n"
     ]
    }
   ],
   "source": [
    "file_name = 'Will Smith will smith will Smith smith Will?'\n",
    "print(file_name.split())\n",
    "result = len(file_name.split())\n",
    "print(result)"
   ]
  },
  {
   "cell_type": "code",
   "execution_count": null,
   "metadata": {},
   "outputs": [],
   "source": []
  },
  {
   "cell_type": "code",
   "execution_count": 85,
   "metadata": {},
   "outputs": [
    {
     "name": "stdout",
     "output_type": "stream",
     "text": [
      "('input1.txt', 1)\n",
      "('input2.txt', 1)\n",
      "('input3.txt', 1)\n",
      "('input4.txt', 1)\n"
     ]
    }
   ],
   "source": [
    "# NO CODE HERE\n",
    "#\n",
    "def most_frequent(file_name):           # DO NOT CHANGE THIS LINE \n",
    "    result1 = ''                          # DO NOT CHANGE THIS LINE \n",
    "    result2 = 0                           # DO NOT CHANGE THIS LINE \n",
    "    #\n",
    "    # Your code here\n",
    "    myDict = {}                            # create a dictionary\n",
    "    file_name_2 = file_name.lower()        # all words turn into lower case\n",
    "    for word in (file_name_2.split()):\n",
    "        if word not in myDict:\n",
    "            myDict[word] = 1\n",
    "        elif word in myDict:\n",
    "            myDict[word] += 1\n",
    "    result2 = max(myDict.values())         # how many times the most frequent word has appeared\n",
    "    for word, num in myDict.items():       # here we grab the most frequent word by its value\n",
    "        if num == result2:\n",
    "            result1 = word\n",
    "    #\n",
    "    return result1, result2               # DO NOT CHANGE THIS LINE \n",
    "#                          \n",
    "# NO CODE HERE\n",
    "#\n",
    "if __name__ == \"__main__\":              # DO NOT CHANGE THIS LINE \n",
    "    print(most_frequent('input1.txt'))    # DO NOT CHANGE THIS LINE \n",
    "    print(most_frequent('input2.txt'))    # DO NOT CHANGE THIS LINE \n",
    "    print(most_frequent('input3.txt'))    # DO NOT CHANGE THIS LINE \n",
    "    print(most_frequent('input4.txt'))    # DO NOT CHANGE THIS LINE \n",
    "#                          \n",
    "# NO CODE HERE\n",
    "#"
   ]
  },
  {
   "cell_type": "code",
   "execution_count": 86,
   "metadata": {},
   "outputs": [
    {
     "data": {
      "text/plain": [
       "('second', 3)"
      ]
     },
     "execution_count": 86,
     "metadata": {},
     "output_type": "execute_result"
    }
   ],
   "source": [
    "file_name = 'The first   second was  alright,   but the second    second was tough.'\n",
    "most_frequent(file_name)"
   ]
  },
  {
   "cell_type": "code",
   "execution_count": 87,
   "metadata": {},
   "outputs": [
    {
     "data": {
      "text/plain": [
       "('second', 3)"
      ]
     },
     "execution_count": 87,
     "metadata": {},
     "output_type": "execute_result"
    }
   ],
   "source": [
    "file_name = 'The first second was alright ,   but the second second was tough.'\n",
    "most_frequent(file_name)"
   ]
  },
  {
   "cell_type": "code",
   "execution_count": 88,
   "metadata": {},
   "outputs": [
    {
     "data": {
      "text/plain": [
       "('may', 2)"
      ]
     },
     "execution_count": 88,
     "metadata": {},
     "output_type": "execute_result"
    }
   ],
   "source": [
    "file_name = 'In May, May may move to San Mateo.'\n",
    "most_frequent(file_name)"
   ]
  },
  {
   "cell_type": "code",
   "execution_count": 89,
   "metadata": {},
   "outputs": [
    {
     "data": {
      "text/plain": [
       "('smith', 4)"
      ]
     },
     "execution_count": 89,
     "metadata": {},
     "output_type": "execute_result"
    }
   ],
   "source": [
    "file_name = 'Will Smith will smith will Smith smith Will?'\n",
    "most_frequent(file_name)"
   ]
  },
  {
   "cell_type": "code",
   "execution_count": 84,
   "metadata": {},
   "outputs": [
    {
     "name": "stdout",
     "output_type": "stream",
     "text": [
      "the first   second was  alright,   but the second    second was tough.\n",
      "['the', 'first', 'second', 'was', 'alright,', 'but', 'the', 'second', 'second', 'was', 'tough.']\n",
      "{'the': 2, 'first': 1, 'second': 3, 'was': 2, 'alright,': 1, 'but': 1, 'tough.': 1}\n",
      "3\n",
      "second\n"
     ]
    }
   ],
   "source": [
    "file_name = 'The first   second was  alright,   but the second    second was tough.'\n",
    "result1 = ''\n",
    "result2 = 0\n",
    "myDict = {}\n",
    "file_name_2 = file_name.lower()\n",
    "print(file_name_2)\n",
    "print(file_name_2.split())\n",
    "for word in (file_name_2.split()):\n",
    "    if word not in myDict:\n",
    "        myDict[word] = 1\n",
    "    elif word in myDict:\n",
    "        myDict[word] += 1\n",
    "print(myDict)\n",
    "result2 = max(myDict.values())         # how many times the most frequent word has appeared\n",
    "print(result2)\n",
    "for word, num in myDict.items():\n",
    "    if num == result2:\n",
    "        result1 = word\n",
    "print(result1)"
   ]
  },
  {
   "cell_type": "code",
   "execution_count": null,
   "metadata": {},
   "outputs": [],
   "source": [
    "for name, age in mydict.items():\n",
    "    if age == search_age:\n",
    "        print name"
   ]
  },
  {
   "cell_type": "markdown",
   "metadata": {},
   "source": []
  },
  {
   "cell_type": "markdown",
   "metadata": {},
   "source": []
  },
  {
   "cell_type": "code",
   "execution_count": 5,
   "metadata": {},
   "outputs": [
    {
     "ename": "NameError",
     "evalue": "name 'input1' is not defined",
     "output_type": "error",
     "traceback": [
      "\u001b[0;31m---------------------------------------------------------------------------\u001b[0m",
      "\u001b[0;31mNameError\u001b[0m                                 Traceback (most recent call last)",
      "\u001b[0;32m<ipython-input-5-2e77db67724e>\u001b[0m in \u001b[0;36m<module>\u001b[0;34m\u001b[0m\n\u001b[0;32m----> 1\u001b[0;31m \u001b[0mopen\u001b[0m\u001b[0;34m(\u001b[0m\u001b[0minput1\u001b[0m\u001b[0;34m.\u001b[0m\u001b[0mtxt\u001b[0m\u001b[0;34m)\u001b[0m\u001b[0;34m\u001b[0m\u001b[0;34m\u001b[0m\u001b[0m\n\u001b[0m",
      "\u001b[0;31mNameError\u001b[0m: name 'input1' is not defined"
     ]
    }
   ],
   "source": []
  },
  {
   "cell_type": "code",
   "execution_count": 14,
   "metadata": {},
   "outputs": [
    {
     "name": "stdout",
     "output_type": "stream",
     "text": [
      "False\n",
      "False\n",
      "False\n",
      "False\n",
      "False\n",
      "False\n",
      "False\n",
      "True\n",
      "11\n",
      "12\n",
      "8\n",
      "8\n",
      "('second', 3)\n",
      "('second', 3)\n",
      "('may', 2)\n",
      "('smith', 4)\n"
     ]
    }
   ],
   "source": [
    "#                          \n",
    "# NO CODE HERE\n",
    "#\n",
    "# QUESTION 1\n",
    "#  \n",
    "# NO CODE HERE\n",
    "#\n",
    "def password_check(password):           # DO NOT CHANGE THIS LINE \n",
    "    result = True                         # DO NOT CHANGE THIS LINE \n",
    "  #\n",
    "  # Your code here\n",
    "\n",
    "  # check if it's at least 8 characters\n",
    "    if len(password) < 8:\n",
    "        result = False\n",
    "    \n",
    "  # check if it contains question mark\n",
    "    if '?' in list(password):\n",
    "        result = False\n",
    "    \n",
    "  # check if it has at least 1 numerical, 1 alphabetical & 1 special character\n",
    "    abc_cnt = 0\n",
    "    num_cnt = 0\n",
    "    spec_cnt = 0\n",
    "    for i in list(password):\n",
    "        if 48 <= ord(i) <= 57:\n",
    "              num_cnt += 1\n",
    "        elif 65 <= ord(i) <= 90 or 97 <= ord(i) <= 122:\n",
    "              abc_cnt += 1\n",
    "        else:\n",
    "              spec_cnt += 1\n",
    "    if num_cnt == 0 or abc_cnt == 0 or spec_cnt == 0:\n",
    "        result = False\n",
    "    \n",
    "  # check if it contains the same character more than two times consecutively\n",
    "    for idx in range(0,len(password)-2):\n",
    "        if password[idx] == password[idx+1] == password[idx+2]:\n",
    "              result = False\n",
    "    \n",
    "  #number of distinct characters in the password must not be less than half of the password’s length\n",
    "    set_password = set(password)\n",
    "    if len(set_password) < (len(password) / 2):\n",
    "        result = False\n",
    "\n",
    "  #\n",
    "    return result                         # DO NOT CHANGE THIS LINE \n",
    "# \n",
    "# Only use this space to write helper functions (if necessary)\n",
    "#\n",
    "if __name__ == \"__main__\":              # DO NOT CHANGE THIS LINE \n",
    "    print(password_check('a12#8'))        # DO NOT CHANGE THIS LINE \n",
    "    print(password_check('a1234567#?'))   # DO NOT CHANGE THIS LINE \n",
    "    print(password_check('abcdefgh#'))    # DO NOT CHANGE THIS LINE \n",
    "    print(password_check('a12345678'))    # DO NOT CHANGE THIS LINE \n",
    "    print(password_check('12345678#'))    # DO NOT CHANGE THIS LINE \n",
    "    print(password_check('abbbcd1@'))     # DO NOT CHANGE THIS LINE \n",
    "    print(password_check('a1@a1@1@'))     # DO NOT CHANGE THIS LINE \n",
    "    print(password_check('a123456#7'))    # DO NOT CHANGE THIS LINE \n",
    "#                          \n",
    "# NO CODE HERE\n",
    "#\n",
    "###################################################### QUESTION 2\n",
    "#  \n",
    "# NO CODE HERE\n",
    "#\n",
    "def word_counter(file_name):            # DO NOT CHANGE THIS LINE \n",
    "    result = 0                            # DO NOT CHANGE THIS LINE \n",
    "    #\n",
    "    # Your code here\n",
    "    with open(file_name) as file:\n",
    "        text = file.read()\n",
    "    result = len(text.split())\n",
    "    #\n",
    "    return result                         # DO NOT CHANGE THIS LINE \n",
    "#                          \n",
    "# NO CODE HERE\n",
    "#\n",
    "if __name__ == \"__main__\":              # DO NOT CHANGE THIS LINE \n",
    "    print(word_counter('input1.txt'))     # DO NOT CHANGE THIS LINE \n",
    "    print(word_counter('input2.txt'))     # DO NOT CHANGE THIS LINE \n",
    "    print(word_counter('input3.txt'))     # DO NOT CHANGE THIS LINE \n",
    "    print(word_counter('input4.txt'))     # DO NOT CHANGE THIS LINE \n",
    "#                          \n",
    "# NO CODE HERE\n",
    "#\n",
    "def most_frequent(file_name):           # DO NOT CHANGE THIS LINE \n",
    "    result1 = ''                          # DO NOT CHANGE THIS LINE \n",
    "    result2 = 0                           # DO NOT CHANGE THIS LINE \n",
    "    #\n",
    "    # Your code here\n",
    "    with open(file_name) as file:\n",
    "        text = file.read()\n",
    "    myDict = {}                            # create a dictionary\n",
    "    file_name_2 = text.lower()        # all words turn into lower case\n",
    "    for word in (file_name_2.split()):\n",
    "        if word not in myDict:\n",
    "            myDict[word] = 1\n",
    "        elif word in myDict:\n",
    "            myDict[word] += 1\n",
    "    result2 = max(myDict.values())         # how many times the most frequent word has appeared\n",
    "    for word, num in myDict.items():       # here we grab the most frequent word by its value\n",
    "        if num == result2:\n",
    "            result1 = word\n",
    "    #\n",
    "    return result1, result2               # DO NOT CHANGE THIS LINE \n",
    "#                          \n",
    "# NO CODE HERE\n",
    "#\n",
    "if __name__ == \"__main__\":              # DO NOT CHANGE THIS LINE \n",
    "    print(most_frequent('input1.txt'))    # DO NOT CHANGE THIS LINE \n",
    "    print(most_frequent('input2.txt'))    # DO NOT CHANGE THIS LINE \n",
    "    print(most_frequent('input3.txt'))    # DO NOT CHANGE THIS LINE \n",
    "    print(most_frequent('input4.txt'))    # DO NOT CHANGE THIS LINE \n",
    "#                          \n",
    "# NO CODE HERE\n",
    "#"
   ]
  },
  {
   "cell_type": "code",
   "execution_count": null,
   "metadata": {},
   "outputs": [],
   "source": []
  },
  {
   "cell_type": "code",
   "execution_count": 8,
   "metadata": {},
   "outputs": [
    {
     "name": "stdout",
     "output_type": "stream",
     "text": [
      "The first   second was  alright, \t but the second    second was tough.\n"
     ]
    }
   ],
   "source": [
    "print(\"The first   second was  alright,  but the second    second was tough.\")"
   ]
  },
  {
   "cell_type": "code",
   "execution_count": 11,
   "metadata": {},
   "outputs": [],
   "source": [
    "with open('input1.txt') as text:\n",
    "    a = text.read()"
   ]
  },
  {
   "cell_type": "code",
   "execution_count": 13,
   "metadata": {},
   "outputs": [
    {
     "name": "stdout",
     "output_type": "stream",
     "text": [
      "The first   second was  alright,\n",
      "\n",
      "but the second    second was tough.\n"
     ]
    }
   ],
   "source": [
    "print(a)"
   ]
  },
  {
   "cell_type": "code",
   "execution_count": null,
   "metadata": {},
   "outputs": [],
   "source": []
  },
  {
   "cell_type": "code",
   "execution_count": null,
   "metadata": {},
   "outputs": [],
   "source": []
  },
  {
   "cell_type": "code",
   "execution_count": null,
   "metadata": {},
   "outputs": [],
   "source": []
  }
 ],
 "metadata": {
  "kernelspec": {
   "display_name": "Python 3",
   "language": "python",
   "name": "python3"
  },
  "language_info": {
   "codemirror_mode": {
    "name": "ipython",
    "version": 3
   },
   "file_extension": ".py",
   "mimetype": "text/x-python",
   "name": "python",
   "nbconvert_exporter": "python",
   "pygments_lexer": "ipython3",
   "version": "3.7.2"
  }
 },
 "nbformat": 4,
 "nbformat_minor": 2
}
