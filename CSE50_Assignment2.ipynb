{
 "cells": [
  {
   "cell_type": "code",
   "execution_count": null,
   "metadata": {},
   "outputs": [
    {
     "name": "stdout",
     "output_type": "stream",
     "text": [
      "Enter grade (A, B, C, D, or F):C\n",
      "Enter credit count (2, 3, or 5):A\n",
      "Invalid credit count! Try again!\n",
      "Enter credit count (2, 3, or 5):A\n",
      "Invalid credit count! Try again!\n",
      "Enter credit count (2, 3, or 5):S\n",
      "Invalid credit count! Try again!\n"
     ]
    }
   ],
   "source": [
    "rightg = ['A' ,'B' , 'C' , 'D' ,'F']\n",
    "rightc = ['2','3','5']\n",
    "\n",
    "total_credit = 0\n",
    "total_grade = 0\n",
    "\n",
    "while True:\n",
    "    \n",
    "    grade = input(\"Enter grade (A, B, C, D, or F):\")\n",
    "    while grade not in rightg:\n",
    "        print(\"Invalid grade! Try again!\")\n",
    "        grade = input(\"Enter grade (A, B, C, D, or F):\")\n",
    "    \n",
    "    credit = input(\"Enter credit count (2, 3, or 5):\")\n",
    "    while credit not in rightc:\n",
    "        print(\"Invalid credit count! Try again!\")\n",
    "        credit = input(\"Enter credit count (2, 3, or 5):\")\n",
    "    total_credit += int(credit)\n",
    "    \n",
    "    if grade == 'A':\n",
    "        num = 4\n",
    "    elif grade == 'B':\n",
    "        num = 3\n",
    "    elif grade == 'C':\n",
    "        num = 2\n",
    "    elif grade == 'D':\n",
    "        num = 1\n",
    "    elif grade == 'F':\n",
    "        num = 0\n",
    "        \n",
    "    total_grade += num*(int(credit))\n",
    "    \n",
    "    user = input(\"If you are done, enter DONE; otherwise, just press enter: \")\n",
    "    if user == \"DONE\":\n",
    "        print(\"Average GPA is: \",\"%.2f\" % (total_grade/total_credit))\n",
    "        break\n",
    "        \n",
    "    "
   ]
  },
  {
   "cell_type": "code",
   "execution_count": 7,
   "metadata": {},
   "outputs": [
    {
     "name": "stdout",
     "output_type": "stream",
     "text": [
      "If you are done, enter DONE; otherwise, just press enter: \n"
     ]
    }
   ],
   "source": [
    "print(\"If you are done, enter DONE; otherwise, just press enter: \")"
   ]
  },
  {
   "cell_type": "code",
   "execution_count": null,
   "metadata": {},
   "outputs": [],
   "source": []
  },
  {
   "cell_type": "code",
   "execution_count": null,
   "metadata": {},
   "outputs": [],
   "source": []
  },
  {
   "cell_type": "code",
   "execution_count": null,
   "metadata": {},
   "outputs": [],
   "source": []
  },
  {
   "cell_type": "code",
   "execution_count": null,
   "metadata": {},
   "outputs": [],
   "source": []
  },
  {
   "cell_type": "code",
   "execution_count": 1,
   "metadata": {},
   "outputs": [
    {
     "data": {
      "text/plain": [
       "False"
      ]
     },
     "execution_count": 1,
     "metadata": {},
     "output_type": "execute_result"
    }
   ],
   "source": [
    "rightg = ['A' ,'B' , 'C' , 'D' ,'F']\n",
    "grade = \"A\"\n",
    "grade == rightg"
   ]
  },
  {
   "cell_type": "code",
   "execution_count": 3,
   "metadata": {},
   "outputs": [
    {
     "data": {
      "text/plain": [
       "int"
      ]
     },
     "execution_count": 3,
     "metadata": {},
     "output_type": "execute_result"
    }
   ],
   "source": [
    "type(4)"
   ]
  },
  {
   "cell_type": "code",
   "execution_count": 4,
   "metadata": {},
   "outputs": [
    {
     "data": {
      "text/plain": [
       "float"
      ]
     },
     "execution_count": 4,
     "metadata": {},
     "output_type": "execute_result"
    }
   ],
   "source": [
    "type(4.0)"
   ]
  },
  {
   "cell_type": "code",
   "execution_count": 5,
   "metadata": {},
   "outputs": [
    {
     "data": {
      "text/plain": [
       "True"
      ]
     },
     "execution_count": 5,
     "metadata": {},
     "output_type": "execute_result"
    }
   ],
   "source": [
    "4 == 4.0"
   ]
  },
  {
   "cell_type": "code",
   "execution_count": 14,
   "metadata": {},
   "outputs": [
    {
     "name": "stdout",
     "output_type": "stream",
     "text": [
      "Average GPA is: 5\n"
     ]
    }
   ],
   "source": [
    "result = 5\n",
    "print(\"Average GPA is:\",result)"
   ]
  },
  {
   "cell_type": "code",
   "execution_count": null,
   "metadata": {},
   "outputs": [],
   "source": [
    "if condition:\n",
    "    \n",
    "    "
   ]
  },
  {
   "cell_type": "code",
   "execution_count": 15,
   "metadata": {},
   "outputs": [
    {
     "data": {
      "text/plain": [
       "str"
      ]
     },
     "execution_count": 15,
     "metadata": {},
     "output_type": "execute_result"
    }
   ],
   "source": [
    "type(\"2\")"
   ]
  },
  {
   "cell_type": "code",
   "execution_count": 16,
   "metadata": {},
   "outputs": [
    {
     "data": {
      "text/plain": [
       "int"
      ]
     },
     "execution_count": 16,
     "metadata": {},
     "output_type": "execute_result"
    }
   ],
   "source": [
    "type(2)"
   ]
  },
  {
   "cell_type": "code",
   "execution_count": 17,
   "metadata": {},
   "outputs": [
    {
     "ename": "TypeError",
     "evalue": "'type' object is not subscriptable",
     "output_type": "error",
     "traceback": [
      "\u001b[0;31m---------------------------------------------------------------------------\u001b[0m",
      "\u001b[0;31mTypeError\u001b[0m                                 Traceback (most recent call last)",
      "\u001b[0;32m<ipython-input-17-b50aa8761f4e>\u001b[0m in \u001b[0;36m<module>\u001b[0;34m()\u001b[0m\n\u001b[0;32m----> 1\u001b[0;31m \u001b[0mthecredit\u001b[0m \u001b[0;34m=\u001b[0m \u001b[0mint\u001b[0m\u001b[0;34m[\u001b[0m\u001b[0;34m\"2\"\u001b[0m\u001b[0;34m,\u001b[0m\u001b[0;34m\"3\"\u001b[0m\u001b[0;34m,\u001b[0m\u001b[0;34m\"5\"\u001b[0m\u001b[0;34m]\u001b[0m\u001b[0;34m\u001b[0m\u001b[0m\n\u001b[0m",
      "\u001b[0;31mTypeError\u001b[0m: 'type' object is not subscriptable"
     ]
    }
   ],
   "source": [
    "thecredit = int[\"2\",\"3\",\"5\"]"
   ]
  },
  {
   "cell_type": "code",
   "execution_count": null,
   "metadata": {},
   "outputs": [],
   "source": []
  }
 ],
 "metadata": {
  "kernelspec": {
   "display_name": "Python 3",
   "language": "python",
   "name": "python3"
  },
  "language_info": {
   "codemirror_mode": {
    "name": "ipython",
    "version": 3
   },
   "file_extension": ".py",
   "mimetype": "text/x-python",
   "name": "python",
   "nbconvert_exporter": "python",
   "pygments_lexer": "ipython3",
   "version": "3.6.4"
  }
 },
 "nbformat": 4,
 "nbformat_minor": 2
}
